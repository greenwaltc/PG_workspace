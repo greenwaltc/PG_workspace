{
 "cells": [
  {
   "cell_type": "code",
   "execution_count": 1,
   "metadata": {},
   "outputs": [],
   "source": [
    "import os, zipfile\n",
    "\n",
    "data_directory='data/Feb2022/'"
   ]
  },
  {
   "cell_type": "code",
   "execution_count": 18,
   "metadata": {},
   "outputs": [],
   "source": [
    "# Utility class for zipping/unzipping archives\n",
    "\n",
    "class Zipper():\n",
    "    def zip_one_file(self, file, archive):\n",
    "        with zipfile.ZipFile(archive, \"w\", zipfile.ZIP_DEFLATED) as zf:\n",
    "            zf.write(file)\n",
    "\n",
    "    def zip_files(self, files, archives):\n",
    "        for i, file in enumerate(files):\n",
    "            self.zip_one_file(file, archives[i])\n",
    "\n",
    "    def unzip_one_archive(self, archive, out_dir=None):\n",
    "        with zipfile.ZipFile(archive, 'r') as zf:\n",
    "            info = zf.infolist()\n",
    "            file = info[0]\n",
    "            zf.extract(file, out_dir)"
   ]
  },
  {
   "cell_type": "code",
   "execution_count": 27,
   "metadata": {},
   "outputs": [],
   "source": [
    "# Run this cell if you need to extract all the data files from data_directory + 'zip/'\n",
    "\n",
    "archive_directory = data_directory + 'zip/'\n",
    "out_dir = data_directory\n",
    "\n",
    "archives = [archive_directory + file for file in os.listdir(archive_directory)]\n",
    "\n",
    "for archive in archives:\n",
    "    Zipper().unzip_one_archive(archive, out_dir)"
   ]
  }
 ],
 "metadata": {
  "interpreter": {
   "hash": "6b2efc4b102cc6878f14c71b1b299607eba1e6d0bb881d7beb2f5cad1213cf03"
  },
  "kernelspec": {
   "display_name": "Python 3.8.11 ('general')",
   "language": "python",
   "name": "python3"
  },
  "language_info": {
   "codemirror_mode": {
    "name": "ipython",
    "version": 3
   },
   "file_extension": ".py",
   "mimetype": "text/x-python",
   "name": "python",
   "nbconvert_exporter": "python",
   "pygments_lexer": "ipython3",
   "version": "3.8.11"
  },
  "orig_nbformat": 4
 },
 "nbformat": 4,
 "nbformat_minor": 2
}
