{
 "cells": [
  {
   "cell_type": "code",
   "execution_count": 1,
   "metadata": {},
   "outputs": [],
   "source": [
    "import os, zipfile\n",
    "\n",
    "data_directory='data/Feb2022/'"
   ]
  },
  {
   "cell_type": "code",
   "execution_count": 18,
   "metadata": {},
   "outputs": [],
   "source": [
    "def zip_one_file(file, archive):\n",
    "    with zipfile.ZipFile(archive, \"w\", zipfile.ZIP_DEFLATED) as zf:\n",
    "        zf.write(file)\n",
    "\n",
    "def zip_files(files, archives):\n",
    "    for i, file in enumerate(files):\n",
    "        zip_one_file(file, archives[i])\n",
    "\n",
    "def unzip_one_archive(archive, out_dir=None):\n",
    "    with zipfile.ZipFile(archive, 'r') as zf:\n",
    "        # if out_dir is not None:\n",
    "        #     zf.extractall(out_dir)\n",
    "        # else:\n",
    "        info = zf.infolist()\n",
    "        file = info[0]\n",
    "        zf.extract(file, out_dir)\n",
    "\n",
    "def unzip_files(archive, password=None):\n",
    "\n",
    "    with zipfile.ZipFile(archive, \"r\") as zf:\n",
    "        crc_test = zf.testzip()\n",
    "        if crc_test is not None:\n",
    "            print(f\"Bad CRC or file headers: {crc_test}\")\n",
    "\n",
    "        info = zf.infolist()  # also zf.namelist()\n",
    "        print(info)  # See all attributes at https://docs.python.org/3/library/zipfile.html#zipinfo-objects\n",
    "        # [ <ZipInfo filename='words1.txt' filemode='-rw-r--r--' file_size=37>,\n",
    "        #   <ZipInfo filename='words2.txt' filemode='-rw-r--r--' file_size=47>,\n",
    "        #   ... ]\n",
    "\n",
    "        file = info[0]\n",
    "        with zf.open(file) as f:\n",
    "            print(f.read().decode())\n",
    "            # Olav\n",
    "            # teakettles\n",
    "            # ...\n",
    "\n",
    "        zf.extract(file, \"/tmp\", pwd=password)  # also zf.extractall()"
   ]
  },
  {
   "cell_type": "code",
   "execution_count": 27,
   "metadata": {},
   "outputs": [],
   "source": [
    "os.chdir(data_directory)\n",
    "\n",
    "files = [file for file in os.listdir()]\n",
    "archives = ['zip/' + file.replace('.csv', '.zip') for file in os.listdir()]\n",
    "zip_files(files, archives)\n",
    "\n",
    "os.chdir('../..')"
   ]
  },
  {
   "cell_type": "code",
   "execution_count": 29,
   "metadata": {},
   "outputs": [
    {
     "name": "stdout",
     "output_type": "stream",
     "text": [
      "data/Feb2022/zip/\n",
      "data/Feb2022/out/\n",
      "['data/Feb2022/zip/Feb14_50ms_10_pivoted.zip', 'data/Feb2022/zip/Feb14_50ms_11_pivoted.zip', 'data/Feb2022/zip/Feb14_50ms_12_pivoted.zip', 'data/Feb2022/zip/Feb14_50ms_13_pivoted.zip', 'data/Feb2022/zip/Feb14_50ms_14_pivoted.zip']\n"
     ]
    }
   ],
   "source": [
    "archive_directory = data_directory + 'zip/'\n",
    "out_dir = data_directory + 'out/'\n",
    "\n",
    "print(archive_directory)\n",
    "print(out_dir)\n",
    "\n",
    "archives = [archive_directory + file for file in os.listdir(archive_directory)[:5]]\n",
    "print(archives)\n",
    "\n",
    "for archive in archives:\n",
    "    unzip_one_archive(archive, out_dir)\n"
   ]
  }
 ],
 "metadata": {
  "interpreter": {
   "hash": "6b2efc4b102cc6878f14c71b1b299607eba1e6d0bb881d7beb2f5cad1213cf03"
  },
  "kernelspec": {
   "display_name": "Python 3.8.11 ('general')",
   "language": "python",
   "name": "python3"
  },
  "language_info": {
   "codemirror_mode": {
    "name": "ipython",
    "version": 3
   },
   "file_extension": ".py",
   "mimetype": "text/x-python",
   "name": "python",
   "nbconvert_exporter": "python",
   "pygments_lexer": "ipython3",
   "version": "3.8.11"
  },
  "orig_nbformat": 4
 },
 "nbformat": 4,
 "nbformat_minor": 2
}
