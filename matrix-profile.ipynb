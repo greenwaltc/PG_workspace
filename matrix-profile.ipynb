{
 "cells": [
  {
   "cell_type": "code",
   "execution_count": 1,
   "metadata": {},
   "outputs": [],
   "source": [
    "import pandas as pd\n",
    "import numpy as np\n",
    "import matplotlib.pyplot as plt\n",
    "import seaborn as sns\n",
    "from matplotlib.pyplot import figure\n",
    "from matplotlib.patches import Rectangle\n",
    "from IPython.display import display\n",
    "import stumpy\n",
    "import os\n",
    "import zipfile\n",
    "from tqdm.notebook import tqdm_notebook\n",
    "from datetime import datetime\n",
    "\n",
    "np.set_printoptions(suppress=True)\n",
    "\n",
    "data_directory = './data/Feb2022/' # The root directory for where all the data files are stored\n",
    "overall_filename = 'february_data.csv' # Filename where the concatenated individual files will be stored"
   ]
  },
  {
   "cell_type": "code",
   "execution_count": 4,
   "metadata": {},
   "outputs": [],
   "source": [
    "# Helper functions. They do what the function name suggests\n",
    "\n",
    "def read_in_file(filename, keep_columns=None, time_format='%Y-%m-%dT%H:%M:%S.%f'):\n",
    "    '''Reads in a .csv file into a Pandas DataFrame. \n",
    "    \n",
    "    This function assumes there is a column in the .csv whose name is 'time'. The 'time' column is automatically set as a\n",
    "    Pandas DatetimeIndex.\n",
    "\n",
    "    Args:\n",
    "        filename : str\n",
    "            The name of the file to be read from, in .csv format.\n",
    "        keep_columns : list str\n",
    "            The names of the columns to keep from the file. If None, all columns will be kept.\n",
    "        drop_columns: list str\n",
    "            The names of the columns to drop from the file. If None, it will not be used.\n",
    "        time_format: str\n",
    "            The datetime format for which to parse the 'time' column from the .csv file. \n",
    "\n",
    "    Returns:\n",
    "        A Pandas DataFrame.\n",
    "    '''\n",
    "    df = pd.read_csv(filename, usecols=keep_columns)\n",
    "\n",
    "    if 'time' in df.columns.tolist():\n",
    "        df.time = pd.to_datetime(df.time, format=time_format)\n",
    "        df = df.set_index('time')\n",
    "\n",
    "    return df\n",
    "\n",
    "def groupby_second(df, agg='mean'):\n",
    "    '''Groups a Pandas DataFrame by second according to the aggregation method agg.\n",
    "\n",
    "    Args:\n",
    "        df: Pandas DataFrame\n",
    "            A Pandas DataFrame whose index is a DatetimeIndex. The index needs to be of this type to perform the groupby.\n",
    "        agg: str\n",
    "            The aggregation method for the groupby operation. Default is 'mean'.\n",
    "\n",
    "    Returns:\n",
    "        The resulting Pandas DataFrame.\n",
    "    '''\n",
    "    df = df.groupby(by=[df.index.year, df.index.month, df.index.day, df.index.hour, df.index.minute, df.index.second]).agg(agg)\n",
    "    df.index = pd.to_datetime(df.index.get_level_values(0).astype(str) + '-' +\n",
    "                df.index.get_level_values(1).astype(str) + '-' +\n",
    "                df.index.get_level_values(2).astype(str) + 'T' +\n",
    "                df.index.get_level_values(3).astype(str) + ':' +\n",
    "                df.index.get_level_values(4).astype(str) + ':' +\n",
    "                df.index.get_level_values(5).astype(str),\n",
    "                format='%Y-%m-%dT%H:%M:%S')\n",
    "    return df\n",
    "\n",
    "def do_matrix_profile_nd(df, m, do_gpu_stump=False):\n",
    "    '''Performs an n-dimensional matrix profile to find motifs, where n > 1.\n",
    "    \n",
    "    This function will display PyPlot figures for each dimension of the matrix profile. If the parameter do_gpu_stump\n",
    "    is set to True, this function will perform the matrix profile on a GPU. While this operation can be sped up by\n",
    "    using a GPU, it requires the GPU to be a properly configured NVIDIA GPU. See the Stumpy library documentation for \n",
    "    more details.\n",
    "    \n",
    "    Args:\n",
    "        df: Pandas DataFrame\n",
    "            A Pandas DataFrame with more than one column and whose number of columns is greater than 1. Additionally,\n",
    "            each column of the DataFrame needs to be of type float. This function will not work with non-continuos\n",
    "            datatypes present in the DataFrame.\n",
    "        m: int\n",
    "            The window size for the matrix profile.\n",
    "        do_gpu_stump: bool\n",
    "            Determines whether or not to run the matrix profile using a properly configured NVIDIA GPU.\n",
    "            \n",
    "    Returns:\n",
    "        None. Only the output is displayed.\n",
    "    '''\n",
    "\n",
    "    if not do_gpu_stump:\n",
    "        mps, indices = stumpy.mstump(df, m)\n",
    "    else:\n",
    "        mps, indices = stumpy.gpu_mstump(df, m) # I'm not sure if this is the right function to call. There is a stumped function for distributed CPU processing.\n",
    "    \n",
    "    motifs_idx = np.argsort(mps, axis=1)[:, 0]\n",
    "    motifs_nn_idx = indices[np.arange(len(motifs_idx)), motifs_idx]\n",
    "\n",
    "    discords_idx = np.argsort(mps, axis=1)[:, -1]\n",
    "    discord_nn_idx = indices[np.arange(len(discords_idx)), discords_idx]\n",
    "\n",
    "    fig, axs = plt.subplots(mps.shape[0] * 2, sharex=True, gridspec_kw={'hspace': 0}, figsize=(18,5*df.shape[1]))\n",
    "\n",
    "    for k, dim_name in enumerate(df.columns):\n",
    "        axs[k].set_ylabel(dim_name, fontsize='8')\n",
    "        axs[k].plot(np.arange(df.shape[0]), df[dim_name])\n",
    "        axs[k].set_xlabel('Time', fontsize ='8')\n",
    "\n",
    "        axs[k + mps.shape[0]].set_ylabel(dim_name.replace('T', 'P'), fontsize='8')\n",
    "        axs[k + mps.shape[0]].plot(mps[k], c='orange')\n",
    "        axs[k + mps.shape[0]].set_xlabel('Time', fontsize ='8')\n",
    "\n",
    "        # axs[k].axvline(x=motifs_idx[1], linestyle=\"dashed\", c='black')\n",
    "        # axs[k].axvline(x=motifs_nn_idx[1], linestyle=\"dashed\", c='black')\n",
    "        # axs[k + mps.shape[0]].axvline(x=motifs_idx[1], linestyle=\"dashed\", c='black')\n",
    "        # axs[k + mps.shape[0]].axvline(x=motifs_nn_idx[1], linestyle=\"dashed\", c='black')\n",
    "\n",
    "        # if dim_name != 'T3':\n",
    "        #     axs[k].plot(range(motifs_idx[k], motifs_idx[k] + m), df[dim_name].iloc[motifs_idx[k] : motifs_idx[k] + m], c='red', linewidth=4)\n",
    "        #     axs[k].plot(range(motifs_nn_idx[k], motifs_nn_idx[k] + m), df[dim_name].iloc[motifs_nn_idx[k] : motifs_nn_idx[k] + m], c='red', linewidth=4)\n",
    "        #     axs[k + mps.shape[0]].plot(motifs_idx[k], mps[k, motifs_idx[k]] + 1, marker=\"v\", markersize=10, color='red')\n",
    "        #     axs[k + mps.shape[0]].plot(motifs_nn_idx[k], mps[k, motifs_nn_idx[k]] + 1, marker=\"v\", markersize=10, color='red')\n",
    "        # else:\n",
    "        #     axs[k + mps.shape[0]].plot(motifs_idx[k], mps[k, motifs_idx[k]] + 1, marker=\"v\", markersize=10, color='black')\n",
    "        #     axs[k + mps.shape[0]].plot(motifs_nn_idx[k], mps[k, motifs_nn_idx[k]] + 1, marker=\"v\", markersize=10, color='black')\n",
    "\n",
    "    plt.show()\n",
    "\n",
    "def do_matrix_profile_1d(df, m, do_gpu_stump=False):\n",
    "    '''Performs an 1-dimensional matrix profile to find motifs and discords.\n",
    "    \n",
    "    This function will display a PyPlot figure for the matrix profile. If the parameter do_gpu_stump\n",
    "    is set to True, this function will perform the matrix profile on a GPU. While this operation can be sped up by\n",
    "    using a GPU, it requires the GPU to be a properly configured NVIDIA GPU. See the Stumpy library documentation for \n",
    "    more details.\n",
    "    \n",
    "    Args:\n",
    "        df: Pandas DataFrame\n",
    "            A Pandas DataFrame with exactly one column. Additionally, that column of the DataFrame needs to be of type\n",
    "            float. This function will not work with non-continuos datatypes present in the DataFrame.\n",
    "        m: int\n",
    "            The window size for the matrix profile.\n",
    "        do_gpu_stump: bool\n",
    "            Determines whether or not to run the matrix profile using a properly configured NVIDIA GPU.\n",
    "            \n",
    "    Returns:\n",
    "        None. Only the output is displayed.\n",
    "    '''\n",
    "    if not do_gpu_stump:\n",
    "        mp = stumpy.stump(df.iloc[:, 0], m)\n",
    "    else:\n",
    "        mp = stumpy.gpu_stump(df.iloc[:, 0], m)\n",
    "\n",
    "    # Create the axis\n",
    "    fig, axs = plt.subplots(2, sharex=True, sharey=False, gridspec_kw={'hspace': 0}, figsize=(18,8))\n",
    "    plt.suptitle('Discord (Anomaly/Novelty) Discovery', fontsize='12')\n",
    "    axs[0].plot(df.iloc[:, 0].values)\n",
    "    axs[0].set_ylabel(list(df.columns)[0], fontsize='12')\n",
    "    axs[1].set_xlabel('Time', fontsize ='12')\n",
    "    axs[1].set_ylabel('Matrix Profile', fontsize='12')\n",
    "    axs[1].plot(mp[:, 0])\n",
    "\n",
    "    # Find and plot motifs\n",
    "    motif_idx = np.argsort(mp[:, 0])[0]\n",
    "    nearest_neighbor_idx = mp[motif_idx, 1]\n",
    "    \n",
    "    rect = Rectangle((motif_idx, 0), m, max(df.iloc[:, 0]), facecolor='lightgrey')\n",
    "    axs[0].add_patch(rect)\n",
    "    rect = Rectangle((nearest_neighbor_idx, 0), m, max(df.iloc[:, 0]), facecolor='lightgrey')\n",
    "    axs[0].add_patch(rect)\n",
    "    axs[1].axvline(x=motif_idx, linestyle=\"dashed\", color='grey')\n",
    "    axs[1].axvline(x=nearest_neighbor_idx, linestyle=\"dashed\", color='grey')\n",
    "\n",
    "\n",
    "    # Find and plot the discords\n",
    "    discord_idx = np.argsort(mp[:, 0])[-1]\n",
    "\n",
    "    rect = Rectangle((discord_idx, 0), m, max(df.iloc[:, 0]), facecolor='red', alpha=.35)\n",
    "    axs[0].add_patch(rect)\n",
    "    axs[1].axvline(x=discord_idx, linestyle=\"dashed\", color='red', alpha=0.5)\n",
    "\n",
    "    plt.show()\n",
    "\n",
    "def do_matrix_profile(df, m, t1=None, t2=None, impute=False):\n",
    "    '''Performs a matrix profile on the given data df between the time intervals t1 and t2.\n",
    "    \n",
    "    This function will infer whether to run a 1-dimensional or n-dimensional matrix profile based\n",
    "    on the number of columns in df. The use of t1 and t2 Datetime objects makes it intuitive to\n",
    "    perform this operation for a given time window, e.g., the user can choose to plot only those\n",
    "    data points belonging to February 18th, 2022.\n",
    "    \n",
    "    Args:\n",
    "        df: Pandas DataFrame\n",
    "            Contains the data to which the matrix profile will be performed. This DataFrame needs to\n",
    "            have a DatetimeIndex to work.\n",
    "        m: int\n",
    "            The window size for the matrix profile.\n",
    "        t1: Datetime\n",
    "            The opening of the time interval (inclusive).\n",
    "        t2: Datetime\n",
    "            The end of the time interval (exclusive).\n",
    "    Returns:\n",
    "        None\n",
    "    '''\n",
    "\n",
    "    if t1 is not None \\\n",
    "        and t2 is not None \\\n",
    "        and t1 < t2:\n",
    "        df = df[(df.index >= t1) & (df.index < t2)]\n",
    "\n",
    "    if impute:\n",
    "        if df.isnull().values.any():\n",
    "            df.fillna(df.mean())\n",
    "\n",
    "    if len(df.columns) > 1: # If you have more than one dimension\n",
    "        do_matrix_profile_nd(df, m)\n",
    "    else:\n",
    "        do_matrix_profile_1d(df, m)\n",
    "\n",
    "\n",
    "def plot_time_window(df, t1, t2, col, impute=False):\n",
    "    '''Plots one column of a DataFrame in a certain time window.\n",
    "    \n",
    "    Args:\n",
    "        df: Pandas DataFrame\n",
    "            The DataFrame with the data to be plotted.\n",
    "        t1: Datetime\n",
    "            The opening of the time interval (inclusive).\n",
    "        t2: Datetime\n",
    "            The end of the time interval (exclusive).\n",
    "        col: str\n",
    "            The column of df to plot.\n",
    "        impute: bool\n",
    "            Determines whether or not to impute missing values with the mean.'''\n",
    "    df = df[(df.index >= t1) & (df.index < t2)]\n",
    "\n",
    "    if impute:\n",
    "        if df.isnull().values.any():\n",
    "            df.fillna(df.mean())\n",
    "\n",
    "    sns.lineplot(x=df.index, y=df[col])\n",
    "    plt.show()"
   ]
  },
  {
   "cell_type": "code",
   "execution_count": 3,
   "metadata": {},
   "outputs": [],
   "source": [
    "# Utility class for zipping/unzipping archives\n",
    "\n",
    "class Zipper():\n",
    "    def zip_one_file(self, file, archive):\n",
    "        with zipfile.ZipFile(archive, \"w\", zipfile.ZIP_DEFLATED) as zf:\n",
    "            zf.write(file)\n",
    "\n",
    "    def zip_files(self, files, archives):\n",
    "        for i, file in enumerate(files):\n",
    "            self.zip_one_file(file, archives[i])\n",
    "\n",
    "    def unzip_one_archive(self, archive, out_dir=None):\n",
    "        with zipfile.ZipFile(archive, 'r') as zf:\n",
    "            info = zf.infolist()\n",
    "            file = info[0]\n",
    "            zf.extract(file, out_dir)"
   ]
  },
  {
   "cell_type": "code",
   "execution_count": 5,
   "metadata": {},
   "outputs": [],
   "source": [
    "# Run this cell if you need to extract all the data files from data_directory + 'zip/'\n",
    "\n",
    "archive_directory = data_directory + 'zip/'\n",
    "out_dir = data_directory\n",
    "\n",
    "archives = [archive_directory + file for file in os.listdir(archive_directory)]\n",
    "\n",
    "for archive in archives:\n",
    "    Zipper().unzip_one_archive(archive, out_dir)"
   ]
  },
  {
   "cell_type": "code",
   "execution_count": 8,
   "metadata": {},
   "outputs": [
    {
     "data": {
      "application/vnd.jupyter.widget-view+json": {
       "model_id": "49e20a8ed91a4c8cab656a3cf36f2c1b",
       "version_major": 2,
       "version_minor": 0
      },
      "text/plain": [
       "  0%|          | 0/310 [00:00<?, ?it/s]"
      ]
     },
     "metadata": {},
     "output_type": "display_data"
    }
   ],
   "source": [
    "# Run this cell if you need to concatenate all the data files from data_directory into a csv grouped by second\n",
    "\n",
    "out_file = 'february_data_by_second.csv'\n",
    "indx_files = list(enumerate(os.listdir(data_directory)))\n",
    "for i, file in tqdm_notebook( indx_files ): # For each of our february files\n",
    "\n",
    "    if \".csv\" not in file:\n",
    "        continue\n",
    "    \n",
    "    df = read_in_file(data_directory + file)\n",
    "    df = groupby_second(df)\n",
    "    df.dropna(inplace=True)\n",
    "\n",
    "    if len(df) > 0:\n",
    "        if i == 0:\n",
    "            df.to_csv(out_file)\n",
    "        else:\n",
    "            df.to_csv(out_file, mode='a', header=False)"
   ]
  },
  {
   "cell_type": "code",
   "execution_count": 4,
   "metadata": {},
   "outputs": [
    {
     "data": {
      "application/vnd.jupyter.widget-view+json": {
       "model_id": "68b0c09b78164fd08a440b5e182c3875",
       "version_major": 2,
       "version_minor": 0
      },
      "text/plain": [
       "  0%|          | 0/310 [00:00<?, ?it/s]"
      ]
     },
     "metadata": {},
     "output_type": "display_data"
    }
   ],
   "source": [
    "# Run this cell if you need to concatenate all the data files from data_directory into a csv\n",
    "\n",
    "out_file = 'february_data.csv'\n",
    "indx_files = list(enumerate(os.listdir(data_directory)))\n",
    "for i, file in tqdm_notebook( indx_files ): # For each of our february files\n",
    "\n",
    "    if \".csv\" not in file:\n",
    "        continue\n",
    "    \n",
    "    df = read_in_file(data_directory + file)\n",
    "\n",
    "    if len(df) > 0:\n",
    "        if i == 0:\n",
    "            df.to_csv(out_file)\n",
    "        else:\n",
    "            df.to_csv(out_file, mode='a', header=False)"
   ]
  },
  {
   "cell_type": "code",
   "execution_count": null,
   "metadata": {},
   "outputs": [],
   "source": [
    "'''\n",
    "TODO: \n",
    "    compare different startup-to-stop windows\n",
    "    document code\n",
    "    make poster\n",
    "'''"
   ]
  },
  {
   "cell_type": "markdown",
   "metadata": {},
   "source": [
    "Start of Matrix Profile Analysis"
   ]
  },
  {
   "cell_type": "code",
   "execution_count": 8,
   "metadata": {},
   "outputs": [],
   "source": [
    "src_file = 'february_data.csv'\n",
    "df_overall = read_in_file(src_file, keep_columns=['time', 'Continuous Bond Vibration'])\n",
    "df_overall = df_overall.fillna(method='ffill') # Imputes NaNs from the last valid observation"
   ]
  },
  {
   "cell_type": "code",
   "execution_count": 7,
   "metadata": {},
   "outputs": [
    {
     "name": "stdout",
     "output_type": "stream",
     "text": [
      "                     Continuous Bond Vibration\n",
      "time                                          \n",
      "2022-02-14 00:00:00                  30.427507\n",
      "2022-02-14 00:00:01                  29.740143\n",
      "2022-02-14 00:00:02                  27.623563\n",
      "2022-02-14 00:00:03                  27.903095\n",
      "2022-02-14 00:00:04                  28.162180\n"
     ]
    }
   ],
   "source": [
    "df_overall = groupby_second(df_overall, 'sum')\n",
    "print(df_overall.head())"
   ]
  },
  {
   "cell_type": "code",
   "execution_count": 24,
   "metadata": {},
   "outputs": [],
   "source": [
    "t1 = datetime(year=2022, \n",
    "              month=2, \n",
    "              day=21, \n",
    "              hour=21, \n",
    "              minute=19, \n",
    "              second=0)\n",
    "t2 = datetime(year=2022,\n",
    "              month=2, \n",
    "              day=21, \n",
    "              hour=23, \n",
    "              minute=24, \n",
    "              second=0)\n",
    "\n",
    "cols = ['Continuous Bond Vibration']\n",
    "window_sizes = [30, 60] # I chose these windows because it looks like the data runs in regular intervals lasting about 30 sec"
   ]
  },
  {
   "cell_type": "code",
   "execution_count": 25,
   "metadata": {},
   "outputs": [
    {
     "data": {
      "image/png": "[encoded data removed]",
      "text/plain": [
       "<Figure size 1296x288 with 1 Axes>"
      ]
     },
     "metadata": {
      "needs_background": "light"
     },
     "output_type": "display_data"
    }
   ],
   "source": [
    "figure(figsize=(18,4))\n",
    "plot_time_window(df_overall, t1, t2, cols[0], impute=True)"
   ]
  },
  {
   "cell_type": "code",
   "execution_count": 26,
   "metadata": {},
   "outputs": [
    {
     "name": "stdout",
     "output_type": "stream",
     "text": [
      "Window size (m): 0.5\n"
     ]
    }
   ],
   "source": [
    "for m in window_sizes:\n",
    "    print(\"Window size (m): {}\".format(m/60), flush=False)\n",
    "    do_matrix_profile(df_overall[cols], m, t1, t2, impute=True)"
   ]
  }
 ],
 "metadata": {
  "interpreter": {
   "hash": "6b2efc4b102cc6878f14c71b1b299607eba1e6d0bb881d7beb2f5cad1213cf03"
  },
  "kernelspec": {
   "display_name": "Python 3.8.11 ('general')",
   "language": "python",
   "name": "python3"
  },
  "language_info": {
   "codemirror_mode": {
    "name": "ipython",
    "version": 3
   },
   "file_extension": ".py",
   "mimetype": "text/x-python",
   "name": "python",
   "nbconvert_exporter": "python",
   "pygments_lexer": "ipython3",
   "version": "3.8.11"
  },
  "orig_nbformat": 4
 },
 "nbformat": 4,
 "nbformat_minor": 2
}
