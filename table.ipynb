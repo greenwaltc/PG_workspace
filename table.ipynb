{
 "cells": [
  {
   "cell_type": "code",
   "execution_count": 3,
   "metadata": {},
   "outputs": [
    {
     "data": {
      "text/html": [
       "<table>\n",
       "<thead>\n",
       "<tr><th>Trial  </th><th style=\"text-align: right;\">  Training Accuracy</th><th style=\"text-align: right;\">  Testing Accuracy</th></tr>\n",
       "</thead>\n",
       "<tbody>\n",
       "<tr><td>1      </td><td style=\"text-align: right;\">               0.98</td><td style=\"text-align: right;\">             0.9  </td></tr>\n",
       "<tr><td>2      </td><td style=\"text-align: right;\">               0.96</td><td style=\"text-align: right;\">             0.87 </td></tr>\n",
       "<tr><td>Average</td><td style=\"text-align: right;\">               0.97</td><td style=\"text-align: right;\">             0.885</td></tr>\n",
       "</tbody>\n",
       "</table>"
      ],
      "text/plain": [
       "<IPython.core.display.HTML object>"
      ]
     },
     "metadata": {},
     "output_type": "display_data"
    }
   ],
   "source": [
    "from IPython.display import HTML, display\n",
    "import tabulate\n",
    "\n",
    "header = ['Trial', 'Training Accuracy', 'Testing Accuracy']\n",
    "data = [[1, 0.98, 0.9],\n",
    "        [2, 0.96, 0.87],\n",
    "        ['Average', 0.97, 0.885]]\n",
    "\n",
    "display(HTML(tabulate.tabulate(data, headers=header, tablefmt='html')))"
   ]
  }
 ],
 "metadata": {
  "interpreter": {
   "hash": "6b2efc4b102cc6878f14c71b1b299607eba1e6d0bb881d7beb2f5cad1213cf03"
  },
  "kernelspec": {
   "display_name": "Python 3.8.11 64-bit ('general': conda)",
   "language": "python",
   "name": "python3"
  },
  "language_info": {
   "codemirror_mode": {
    "name": "ipython",
    "version": 3
   },
   "file_extension": ".py",
   "mimetype": "text/x-python",
   "name": "python",
   "nbconvert_exporter": "python",
   "pygments_lexer": "ipython3",
   "version": "3.8.11"
  },
  "orig_nbformat": 4
 },
 "nbformat": 4,
 "nbformat_minor": 2
}
