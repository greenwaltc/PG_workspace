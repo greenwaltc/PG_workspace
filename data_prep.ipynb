{
 "cells": [
  {
   "cell_type": "markdown",
   "metadata": {},
   "source": [
    "This file contains all the code to get the data from github prepared to run the matrix-profile.ipynb"
   ]
  },
  {
   "cell_type": "code",
   "execution_count": null,
   "metadata": {},
   "outputs": [],
   "source": [
    "import os, zipfile\n",
    "\n",
    "import numpy as np\n",
    "import os\n",
    "import zipfile\n",
    "from tqdm.notebook import tqdm_notebook\n",
    "\n",
    "from helper_functions import read_in_file, groupby_second\n",
    "\n",
    "np.set_printoptions(suppress=True)\n",
    "\n",
    "data_directory = './data/Feb2022/' # The root directory for where all the data files are stored\n",
    "overall_filename = 'february_data.csv' # Filename where the concatenated individual files will be stored"
   ]
  },
  {
   "cell_type": "code",
   "execution_count": null,
   "metadata": {},
   "outputs": [],
   "source": [
    "# Utility class for zipping/unzipping archives\n",
    "\n",
    "class Zipper():\n",
    "    def zip_one_file(self, file, archive):\n",
    "        with zipfile.ZipFile(archive, \"w\", zipfile.ZIP_DEFLATED) as zf:\n",
    "            zf.write(file)\n",
    "\n",
    "    def zip_files(self, files, archives):\n",
    "        for i, file in enumerate(files):\n",
    "            self.zip_one_file(file, archives[i])\n",
    "\n",
    "    def unzip_one_archive(self, archive, out_dir=None):\n",
    "        with zipfile.ZipFile(archive, 'r') as zf:\n",
    "            info = zf.infolist()\n",
    "            file = info[0]\n",
    "            zf.extract(file, out_dir)"
   ]
  },
  {
   "cell_type": "code",
   "execution_count": null,
   "metadata": {},
   "outputs": [],
   "source": [
    "# Run this cell if you need to extract all the data files from data_directory + 'zip/'\n",
    "\n",
    "archive_directory = data_directory + 'zip/'\n",
    "out_dir = data_directory\n",
    "\n",
    "archives = [archive_directory + file for file in os.listdir(archive_directory)]\n",
    "\n",
    "for archive in archives:\n",
    "    Zipper().unzip_one_archive(archive, out_dir)"
   ]
  },
  {
   "cell_type": "code",
   "execution_count": null,
   "metadata": {},
   "outputs": [],
   "source": [
    "# Run this cell if you need to concatenate all the data files from data_directory into a csv grouped by second\n",
    "\n",
    "out_file = 'february_data_by_second.csv'\n",
    "indx_files = list(enumerate(os.listdir(data_directory)))\n",
    "for i, file in tqdm_notebook( indx_files ): # For each of our february files\n",
    "\n",
    "    if \".csv\" not in file:\n",
    "        continue\n",
    "    \n",
    "    df = read_in_file(data_directory + file, keep_columns=['time', 'Continuous Bond FFT Band 0', 'Continuous Bond FFT Band 1',\n",
    "                                                        'Continuous Bond FFT Band 2', 'Continuous Bond FFT Band 3', \n",
    "                                                        'Continuous Bond FFT Band 4', 'Continuous Bond FFT Band 5', \n",
    "                                                        'Continuous Bond FFT Band 6', 'Continuous Bond FFT Band 7', \n",
    "                                                        'Continuous Bond Vibration'])\n",
    "    df.fillna(inplace=True, method='ffill')\n",
    "    df = groupby_second(df)\n",
    "\n",
    "    if len(df) > 0:\n",
    "        if i == 0:\n",
    "            df.to_csv(out_file)\n",
    "        else:\n",
    "            df.to_csv(out_file, mode='a', header=False)"
   ]
  },
  {
   "cell_type": "code",
   "execution_count": null,
   "metadata": {},
   "outputs": [],
   "source": [
    "# Run this cell if you need to concatenate all the data files from data_directory into a csv\n",
    "\n",
    "out_file = 'february_data.csv'\n",
    "indx_files = list(enumerate(os.listdir(data_directory)))\n",
    "for i, file in tqdm_notebook( indx_files ): # For each of our february files\n",
    "\n",
    "    if \".csv\" not in file:\n",
    "        continue\n",
    "    \n",
    "    df = read_in_file(data_directory + file, keep_columns=['time', 'Continuous Bond FFT Band 0', 'Continuous Bond FFT Band 1',\n",
    "                                                        'Continuous Bond FFT Band 2', 'Continuous Bond FFT Band 3', \n",
    "                                                        'Continuous Bond FFT Band 4', 'Continuous Bond FFT Band 5', \n",
    "                                                        'Continuous Bond FFT Band 6', 'Continuous Bond FFT Band 7', \n",
    "                                                        'Continuous Bond Vibration'])\n",
    "\n",
    "    if len(df) > 0:\n",
    "        if i == 0:\n",
    "            df.to_csv(out_file)\n",
    "        else:\n",
    "            df.to_csv(out_file, mode='a', header=False)"
   ]
  }
 ],
 "metadata": {
  "language_info": {
   "name": "python"
  },
  "orig_nbformat": 4
 },
 "nbformat": 4,
 "nbformat_minor": 2
}
