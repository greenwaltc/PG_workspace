{
 "cells": [
  {
   "cell_type": "code",
   "execution_count": 12,
   "metadata": {},
   "outputs": [],
   "source": [
    "import pandas as pd\n",
    "import numpy as np\n",
    "import matplotlib.pyplot as plt\n",
    "from matplotlib.pyplot import figure\n",
    "from IPython.display import display\n",
    "import stumpy\n",
    "import os\n",
    "import zipfile\n",
    "\n",
    "np.set_printoptions(suppress=True)\n",
    "\n",
    "data_directory = './data/Feb2022/'"
   ]
  },
  {
   "cell_type": "code",
   "execution_count": 13,
   "metadata": {},
   "outputs": [],
   "source": [
    "# Unzip all the contents of the data folder\n",
    "\n",
    "# for file in os.listdir(data_directory):\n",
    "\n",
    "#     if \"zip\" not in file:\n",
    "#         continue\n",
    "    \n",
    "#     with zipfile.ZipFile(data_directory + file, 'r') as zip_ref:\n",
    "#         zip_ref.extractall(data_directory)\n",
    "#     os.remove(data_directory + file)"
   ]
  },
  {
   "cell_type": "code",
   "execution_count": 86,
   "metadata": {},
   "outputs": [],
   "source": [
    "\n",
    "\n",
    "def do_matrix_profile(df, m):\n",
    "    mps, indices = stumpy.mstump(df, m)\n",
    "    motifs_idx = np.argsort(mps, axis=1)[:, 0]\n",
    "    nn_idx = indices[np.arange(len(motifs_idx)), motifs_idx]\n",
    "\n",
    "    fig, axs = plt.subplots(mps.shape[0] * 2, sharex=True, gridspec_kw={'hspace': 0}, figsize=(18,10))\n",
    "\n",
    "    for k, dim_name in enumerate(df.columns):\n",
    "        axs[k].set_ylabel(dim_name, fontsize='8')\n",
    "        axs[k].plot(np.arange(df.shape[0]), df[dim_name])\n",
    "        axs[k].set_xlabel('Time', fontsize ='8')\n",
    "\n",
    "        axs[k + mps.shape[0]].set_ylabel(dim_name.replace('T', 'P'), fontsize='8')\n",
    "        axs[k + mps.shape[0]].plot(mps[k], c='orange')\n",
    "        axs[k + mps.shape[0]].set_xlabel('Time', fontsize ='8')\n",
    "\n",
    "        # axs[k].axvline(x=motifs_idx[1], linestyle=\"dashed\", c='black')\n",
    "        # axs[k].axvline(x=nn_idx[1], linestyle=\"dashed\", c='black')\n",
    "        # axs[k + mps.shape[0]].axvline(x=motifs_idx[1], linestyle=\"dashed\", c='black')\n",
    "        # axs[k + mps.shape[0]].axvline(x=nn_idx[1], linestyle=\"dashed\", c='black')\n",
    "\n",
    "        # if dim_name != 'T3':\n",
    "        #     axs[k].plot(range(motifs_idx[k], motifs_idx[k] + m), df[dim_name].iloc[motifs_idx[k] : motifs_idx[k] + m], c='red', linewidth=4)\n",
    "        #     axs[k].plot(range(nn_idx[k], nn_idx[k] + m), df[dim_name].iloc[nn_idx[k] : nn_idx[k] + m], c='red', linewidth=4)\n",
    "        #     axs[k + mps.shape[0]].plot(motifs_idx[k], mps[k, motifs_idx[k]] + 1, marker=\"v\", markersize=10, color='red')\n",
    "        #     axs[k + mps.shape[0]].plot(nn_idx[k], mps[k, nn_idx[k]] + 1, marker=\"v\", markersize=10, color='red')\n",
    "        # else:\n",
    "        #     axs[k + mps.shape[0]].plot(motifs_idx[k], mps[k, motifs_idx[k]] + 1, marker=\"v\", markersize=10, color='black')\n",
    "        #     axs[k + mps.shape[0]].plot(nn_idx[k], mps[k, nn_idx[k]] + 1, marker=\"v\", markersize=10, color='black')\n",
    "\n",
    "    plt.show()"
   ]
  },
  {
   "cell_type": "code",
   "execution_count": 73,
   "metadata": {},
   "outputs": [],
   "source": [
    "def read_in_file(filename, keep_columns=None):\n",
    "    df = pd.read_csv(filename)\n",
    "\n",
    "    if \"time\" in df.columns.tolist():\n",
    "        df.time = pd.to_datetime(df.time, format='%Y-%m-%dT%H:%M:%S.%f')\n",
    "\n",
    "    df = df.set_index('time')\n",
    "\n",
    "    if keep_columns is not None:\n",
    "        drop_columns = list( set(df.columns.tolist()) - set(keep_columns) )\n",
    "        df = df.drop(columns=drop_columns)\n",
    "\n",
    "    return df"
   ]
  },
  {
   "cell_type": "code",
   "execution_count": 74,
   "metadata": {},
   "outputs": [],
   "source": [
    "def groupby_second(df):\n",
    "    df = df.groupby(by=[df.index.year, df.index.month, df.index.day, df.index.hour, df.index.minute, df.index.second]).agg('mean')\n",
    "    df.index = pd.to_datetime(df.index.get_level_values(0).astype(str) + '-' +\n",
    "                df.index.get_level_values(1).astype(str) + '-' +\n",
    "                df.index.get_level_values(2).astype(str) + 'T' +\n",
    "                df.index.get_level_values(3).astype(str) + ':' +\n",
    "                df.index.get_level_values(4).astype(str) + ':' +\n",
    "                df.index.get_level_values(5).astype(str),\n",
    "                format='%Y-%m-%dT%H:%M:%S')\n",
    "    return df"
   ]
  },
  {
   "cell_type": "code",
   "execution_count": 1,
   "metadata": {},
   "outputs": [
    {
     "ename": "NameError",
     "evalue": "name 'data_directory' is not defined",
     "output_type": "error",
     "traceback": [
      "\u001b[1;31m---------------------------------------------------------------------------\u001b[0m",
      "\u001b[1;31mNameError\u001b[0m                                 Traceback (most recent call last)",
      "\u001b[1;32m~\\AppData\\Local\\Temp/ipykernel_13052/2036288577.py\u001b[0m in \u001b[0;36m<module>\u001b[1;34m\u001b[0m\n\u001b[1;32m----> 1\u001b[1;33m \u001b[1;32mfor\u001b[0m \u001b[0mi\u001b[0m\u001b[1;33m,\u001b[0m \u001b[0mfile\u001b[0m \u001b[1;32min\u001b[0m \u001b[0menumerate\u001b[0m\u001b[1;33m(\u001b[0m\u001b[0mos\u001b[0m\u001b[1;33m.\u001b[0m\u001b[0mlistdir\u001b[0m\u001b[1;33m(\u001b[0m\u001b[0mdata_directory\u001b[0m\u001b[1;33m)\u001b[0m\u001b[1;33m)\u001b[0m\u001b[1;33m:\u001b[0m\u001b[1;33m\u001b[0m\u001b[1;33m\u001b[0m\u001b[0m\n\u001b[0m\u001b[0;32m      2\u001b[0m \u001b[1;33m\u001b[0m\u001b[0m\n\u001b[0;32m      3\u001b[0m     \u001b[1;32mif\u001b[0m \u001b[0mi\u001b[0m \u001b[1;33m==\u001b[0m \u001b[1;36m5\u001b[0m\u001b[1;33m:\u001b[0m \u001b[1;32mbreak\u001b[0m\u001b[1;33m\u001b[0m\u001b[1;33m\u001b[0m\u001b[0m\n\u001b[0;32m      4\u001b[0m \u001b[1;33m\u001b[0m\u001b[0m\n\u001b[0;32m      5\u001b[0m     \u001b[0mdf\u001b[0m \u001b[1;33m=\u001b[0m \u001b[0mread_in_file\u001b[0m\u001b[1;33m(\u001b[0m\u001b[0mdata_directory\u001b[0m \u001b[1;33m+\u001b[0m \u001b[0mfile\u001b[0m\u001b[1;33m,\u001b[0m \u001b[1;33m[\u001b[0m\u001b[1;34m'Continuous Bond FFT Band '\u001b[0m \u001b[1;33m+\u001b[0m \u001b[0mstr\u001b[0m\u001b[1;33m(\u001b[0m\u001b[0mi\u001b[0m\u001b[1;33m)\u001b[0m \u001b[1;32mfor\u001b[0m \u001b[0mi\u001b[0m \u001b[1;32min\u001b[0m \u001b[0mrange\u001b[0m\u001b[1;33m(\u001b[0m\u001b[1;36m2\u001b[0m\u001b[1;33m,\u001b[0m\u001b[1;36m4\u001b[0m\u001b[1;33m)\u001b[0m\u001b[1;33m]\u001b[0m\u001b[1;33m)\u001b[0m\u001b[1;33m\u001b[0m\u001b[1;33m\u001b[0m\u001b[0m\n",
      "\u001b[1;31mNameError\u001b[0m: name 'data_directory' is not defined"
     ]
    }
   ],
   "source": [
    "for i, file in enumerate(os.listdir(data_directory)):\n",
    "\n",
    "    if i == 5: break\n",
    "\n",
    "    df = read_in_file(data_directory + file, ['Continuous Bond FFT Band ' + str(i) for i in range(2,4)])\n",
    "\n",
    "    df = df.fillna(0)    \n",
    "    # df = df.dropna()\n",
    "\n",
    "    df = groupby_second(df)\n",
    "\n",
    "    figure(figsize=(18,5))\n",
    "    plt.plot(df.index, df['Continuous Bond FFT Band 3'])\n",
    "    plt.title(file + ' ' + 'Continuous Bond FFT Band 3')\n",
    "    plt.xlabel('time')\n",
    "    plt.ylabel('FFT')\n",
    "    plt.show()\n",
    "\n",
    "    # do_matrix_profile(df, 60*1)\n",
    "\n",
    "    # df2 = read_in_file(data_directory + file, ['Bonding Roll Actual Velocity', 'Bonding Roll Command Velocity', 'Bonding Roll Position Error', 'Bonding Roll Torque'])\n",
    "    # display(df2.head(1))\n",
    "    # df2 = df2.dropna()\n",
    "    # df2 = groupby_second(df2)\n",
    "\n",
    "    # do_matrix_profile(df2, 60*10)\n",
    "    "
   ]
  }
 ],
 "metadata": {
  "interpreter": {
   "hash": "6b2efc4b102cc6878f14c71b1b299607eba1e6d0bb881d7beb2f5cad1213cf03"
  },
  "kernelspec": {
   "display_name": "Python 3.8.11 ('general')",
   "language": "python",
   "name": "python3"
  },
  "language_info": {
   "codemirror_mode": {
    "name": "ipython",
    "version": 3
   },
   "file_extension": ".py",
   "mimetype": "text/x-python",
   "name": "python",
   "nbconvert_exporter": "python",
   "pygments_lexer": "ipython3",
   "version": "3.8.11"
  },
  "orig_nbformat": 4
 },
 "nbformat": 4,
 "nbformat_minor": 2
}
